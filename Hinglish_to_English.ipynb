{
  "nbformat": 4,
  "nbformat_minor": 0,
  "metadata": {
    "colab": {
      "name": "Hinglish to English.ipynb",
      "provenance": [],
      "mount_file_id": "1odCV0wse2tnLdktFuNVAahyGA1RGVVFk",
      "authorship_tag": "ABX9TyNkGcyzUeCeuT7YoWpW3XL0",
      "include_colab_link": true
    },
    "kernelspec": {
      "name": "python3",
      "display_name": "Python 3"
    },
    "language_info": {
      "name": "python"
    }
  },
  "cells": [
    {
      "cell_type": "markdown",
      "metadata": {
        "id": "view-in-github",
        "colab_type": "text"
      },
      "source": [
        "<a href=\"https://colab.research.google.com/github/lohitkumar2612/Machine_Translation/blob/main/Hinglish_to_English.ipynb\" target=\"_parent\"><img src=\"https://colab.research.google.com/assets/colab-badge.svg\" alt=\"Open In Colab\"/></a>"
      ]
    },
    {
      "cell_type": "code",
      "metadata": {
        "id": "W22rtO1sc4OV"
      },
      "source": [
        "# Importing required libraries\n",
        "import re\n",
        "import numpy as np\n",
        "import pandas as pd\n",
        "import html\n"
      ],
      "execution_count": 28,
      "outputs": []
    },
    {
      "cell_type": "code",
      "metadata": {
        "id": "2Vl5HRQped-M"
      },
      "source": [
        "#creating data_frame\n",
        "df_corpus=pd.read_csv(\"/content/English-Hindi code-mixed parallel corpus.csv\")"
      ],
      "execution_count": 40,
      "outputs": []
    },
    {
      "cell_type": "code",
      "metadata": {
        "colab": {
          "base_uri": "https://localhost:8080/",
          "height": 206
        },
        "id": "GOD-YoXZfDeO",
        "outputId": "f32d7b36-59f9-4025-cef3-e0178b9eaa97"
      },
      "source": [
        "#first_five rows in the dataset\n",
        "df_corpus.head()"
      ],
      "execution_count": 41,
      "outputs": [
        {
          "output_type": "execute_result",
          "data": {
            "text/html": [
              "<div>\n",
              "<style scoped>\n",
              "    .dataframe tbody tr th:only-of-type {\n",
              "        vertical-align: middle;\n",
              "    }\n",
              "\n",
              "    .dataframe tbody tr th {\n",
              "        vertical-align: top;\n",
              "    }\n",
              "\n",
              "    .dataframe thead th {\n",
              "        text-align: right;\n",
              "    }\n",
              "</style>\n",
              "<table border=\"1\" class=\"dataframe\">\n",
              "  <thead>\n",
              "    <tr style=\"text-align: right;\">\n",
              "      <th></th>\n",
              "      <th>Sentence</th>\n",
              "      <th>English_Translation</th>\n",
              "    </tr>\n",
              "  </thead>\n",
              "  <tbody>\n",
              "    <tr>\n",
              "      <th>0</th>\n",
              "      <td>@someUSER congratulations on you celebrating b...</td>\n",
              "      <td>@some users congratulate you for celebrating B...</td>\n",
              "    </tr>\n",
              "    <tr>\n",
              "      <th>1</th>\n",
              "      <td>@LoKarDi_RT uske liye toh bahot kuch karna pad...</td>\n",
              "      <td>@Lokardi_ rat we should a lot more for that, b...</td>\n",
              "    </tr>\n",
              "    <tr>\n",
              "      <th>2</th>\n",
              "      <td>@slimswamy yehi to hum semjhane ki koshish kar...</td>\n",
              "      <td>@Slimswami ehi, this is what i'm expecting you...</td>\n",
              "    </tr>\n",
              "    <tr>\n",
              "      <th>3</th>\n",
              "      <td>@DramebaazKudi cake kaha hai ??</td>\n",
              "      <td>@Where is Dramebajakudi where is the cake?</td>\n",
              "    </tr>\n",
              "    <tr>\n",
              "      <th>4</th>\n",
              "      <td>@someUSER i'm in hawaii at the moment .  home ...</td>\n",
              "      <td>@some user Don't want to come home next friday...</td>\n",
              "    </tr>\n",
              "  </tbody>\n",
              "</table>\n",
              "</div>"
            ],
            "text/plain": [
              "                                            Sentence                                English_Translation\n",
              "0  @someUSER congratulations on you celebrating b...  @some users congratulate you for celebrating B...\n",
              "1  @LoKarDi_RT uske liye toh bahot kuch karna pad...  @Lokardi_ rat we should a lot more for that, b...\n",
              "2  @slimswamy yehi to hum semjhane ki koshish kar...  @Slimswami ehi, this is what i'm expecting you...\n",
              "3                    @DramebaazKudi cake kaha hai ??         @Where is Dramebajakudi where is the cake?\n",
              "4  @someUSER i'm in hawaii at the moment .  home ...  @some user Don't want to come home next friday..."
            ]
          },
          "metadata": {},
          "execution_count": 41
        }
      ]
    },
    {
      "cell_type": "code",
      "metadata": {
        "colab": {
          "base_uri": "https://localhost:8080/"
        },
        "id": "CKzrXE4Bfc3w",
        "outputId": "5d452901-3217-4437-a754-971309d3bf2c"
      },
      "source": [
        "#For Data Cleaning \n",
        "hin_sen = df_corpus['Sentence']\n",
        "print(hin_sen.head())\n",
        "eng_tran = df_corpus['English_Translation']\n",
        "eng_tran.head()"
      ],
      "execution_count": 33,
      "outputs": [
        {
          "output_type": "stream",
          "name": "stdout",
          "text": [
            "0    @someUSER congratulations on you celebrating b...\n",
            "1    @LoKarDi_RT uske liye toh bahot kuch karna pad...\n",
            "2    @slimswamy yehi to hum semjhane ki koshish kar...\n",
            "3                      @DramebaazKudi cake kaha hai ??\n",
            "4    @someUSER i'm in hawaii at the moment .  home ...\n",
            "Name: Sentence, dtype: object\n"
          ]
        },
        {
          "output_type": "execute_result",
          "data": {
            "text/plain": [
              "0    @some users congratulate you for celebrating B...\n",
              "1    @Lokardi_ rat we should a lot more for that, b...\n",
              "2    @Slimswami ehi, this is what i'm expecting you...\n",
              "3           @Where is Dramebajakudi where is the cake?\n",
              "4    @some user Don't want to come home next friday...\n",
              "Name: English_Translation, dtype: object"
            ]
          },
          "metadata": {},
          "execution_count": 33
        }
      ]
    },
    {
      "cell_type": "code",
      "metadata": {
        "colab": {
          "base_uri": "https://localhost:8080/"
        },
        "id": "eE1sPdjBgolr",
        "outputId": "eeb47b4e-c115-4924-889c-2a201b77640c"
      },
      "source": [
        "#Removing Unwanted Data\n",
        "for i in range (len(hin_sen)):\n",
        "  hin_sen[i] = re.sub(r\"(@[A-Za-z0–9_]+)|[^\\w\\s]\", \"\", hin_sen[i])\n",
        "print(hin_sen.head())"
      ],
      "execution_count": 34,
      "outputs": [
        {
          "output_type": "stream",
          "name": "stdout",
          "text": [
            "0     congratulations on you celebrating british ki...\n",
            "1     uske liye toh bahot kuch karna padega ye papp...\n",
            "2     yehi to hum semjhane ki koshish kar rahe hain...\n",
            "3                                       cake kaha hai \n",
            "4     im in hawaii at the moment   home next friday...\n",
            "Name: Sentence, dtype: object\n"
          ]
        }
      ]
    },
    {
      "cell_type": "code",
      "metadata": {
        "colab": {
          "base_uri": "https://localhost:8080/"
        },
        "id": "8oiAP2oEhzJ6",
        "outputId": "3319cb43-ac34-42cb-aeb4-79f95227903c"
      },
      "source": [
        "#Removing Unwanted Data\n",
        "for i in range (len(eng_tran)):\n",
        "  eng_tran[i] = re.sub(r\"(@[A-Za-z0–9_]+)|[^\\w\\s]\", \"\", eng_tran[i])\n",
        "print(eng_tran.head())"
      ],
      "execution_count": 45,
      "outputs": [
        {
          "output_type": "stream",
          "name": "stdout",
          "text": [
            "0     users congratulate you for celebrating Britis...\n",
            "1     rat we should a lot more for that by this evi...\n",
            "2     ehi this is what im expecting you to understa...\n",
            "3                   is Dramebajakudi where is the cake\n",
            "4     user Dont want to come home next friday becau...\n",
            "Name: English_Translation, dtype: object\n"
          ]
        }
      ]
    },
    {
      "cell_type": "code",
      "metadata": {
        "colab": {
          "base_uri": "https://localhost:8080/",
          "height": 423
        },
        "id": "ZjuDR3KHk_xt",
        "outputId": "aa436a3b-fbbd-44bf-9e24-fd974ce00225"
      },
      "source": [
        "#After Data_Cleaning\n",
        "df_corpus['Sentence'] = hin_sen\n",
        "df_corpus['English_Translation'] = eng_tran\n",
        "df_corpus"
      ],
      "execution_count": 46,
      "outputs": [
        {
          "output_type": "execute_result",
          "data": {
            "text/html": [
              "<div>\n",
              "<style scoped>\n",
              "    .dataframe tbody tr th:only-of-type {\n",
              "        vertical-align: middle;\n",
              "    }\n",
              "\n",
              "    .dataframe tbody tr th {\n",
              "        vertical-align: top;\n",
              "    }\n",
              "\n",
              "    .dataframe thead th {\n",
              "        text-align: right;\n",
              "    }\n",
              "</style>\n",
              "<table border=\"1\" class=\"dataframe\">\n",
              "  <thead>\n",
              "    <tr style=\"text-align: right;\">\n",
              "      <th></th>\n",
              "      <th>Sentence</th>\n",
              "      <th>English_Translation</th>\n",
              "    </tr>\n",
              "  </thead>\n",
              "  <tbody>\n",
              "    <tr>\n",
              "      <th>0</th>\n",
              "      <td>congratulations on you celebrating british ki...</td>\n",
              "      <td>users congratulate you for celebrating Britis...</td>\n",
              "    </tr>\n",
              "    <tr>\n",
              "      <th>1</th>\n",
              "      <td>uske liye toh bahot kuch karna padega ye papp...</td>\n",
              "      <td>rat we should a lot more for that by this evi...</td>\n",
              "    </tr>\n",
              "    <tr>\n",
              "      <th>2</th>\n",
              "      <td>yehi to hum semjhane ki koshish kar rahe hain...</td>\n",
              "      <td>ehi this is what im expecting you to understa...</td>\n",
              "    </tr>\n",
              "    <tr>\n",
              "      <th>3</th>\n",
              "      <td>cake kaha hai</td>\n",
              "      <td>is Dramebajakudi where is the cake</td>\n",
              "    </tr>\n",
              "    <tr>\n",
              "      <th>4</th>\n",
              "      <td>im in hawaii at the moment   home next friday...</td>\n",
              "      <td>user Dont want to come home next friday becau...</td>\n",
              "    </tr>\n",
              "    <tr>\n",
              "      <th>...</th>\n",
              "      <td>...</td>\n",
              "      <td>...</td>\n",
              "    </tr>\n",
              "    <tr>\n",
              "      <th>13733</th>\n",
              "      <td>Dr Kumar Vishwas Koi deewana kehta hai koi pag...</td>\n",
              "      <td>Dr Kumar Vishwas Some used to say lover Some u...</td>\n",
              "    </tr>\n",
              "    <tr>\n",
              "      <th>13734</th>\n",
              "      <td>Me Aaj kuch toofani karte hai\\n\\nMom Pani ki b...</td>\n",
              "      <td>Me Lets do some stormy today\\n\\nMom Fill the w...</td>\n",
              "    </tr>\n",
              "    <tr>\n",
              "      <th>13735</th>\n",
              "      <td>Pyar mangi to Jaan dengimilk mango to kher den...</td>\n",
              "      <td>Ask for love well give life ask for milk well ...</td>\n",
              "    </tr>\n",
              "    <tr>\n",
              "      <th>13736</th>\n",
              "      <td>kaale kaale baal gaal gore gore</td>\n",
              "      <td>black hair cheeks fair fair</td>\n",
              "    </tr>\n",
              "    <tr>\n",
              "      <th>13737</th>\n",
              "      <td>Ye sab auntyon ke saath</td>\n",
              "      <td>All this with aunties</td>\n",
              "    </tr>\n",
              "  </tbody>\n",
              "</table>\n",
              "<p>13738 rows × 2 columns</p>\n",
              "</div>"
            ],
            "text/plain": [
              "                                                Sentence                                English_Translation\n",
              "0       congratulations on you celebrating british ki...   users congratulate you for celebrating Britis...\n",
              "1       uske liye toh bahot kuch karna padega ye papp...   rat we should a lot more for that by this evi...\n",
              "2       yehi to hum semjhane ki koshish kar rahe hain...   ehi this is what im expecting you to understa...\n",
              "3                                         cake kaha hai                  is Dramebajakudi where is the cake\n",
              "4       im in hawaii at the moment   home next friday...   user Dont want to come home next friday becau...\n",
              "...                                                  ...                                                ...\n",
              "13733  Dr Kumar Vishwas Koi deewana kehta hai koi pag...  Dr Kumar Vishwas Some used to say lover Some u...\n",
              "13734  Me Aaj kuch toofani karte hai\\n\\nMom Pani ki b...  Me Lets do some stormy today\\n\\nMom Fill the w...\n",
              "13735  Pyar mangi to Jaan dengimilk mango to kher den...  Ask for love well give life ask for milk well ...\n",
              "13736                    kaale kaale baal gaal gore gore                        black hair cheeks fair fair\n",
              "13737                            Ye sab auntyon ke saath                              All this with aunties\n",
              "\n",
              "[13738 rows x 2 columns]"
            ]
          },
          "metadata": {},
          "execution_count": 46
        }
      ]
    }
  ]
}