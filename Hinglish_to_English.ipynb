{
  "nbformat": 4,
  "nbformat_minor": 0,
  "metadata": {
    "colab": {
      "name": "Hinglish to English.ipynb",
      "provenance": [],
      "mount_file_id": "1odCV0wse2tnLdktFuNVAahyGA1RGVVFk",
      "authorship_tag": "ABX9TyMgBaCZCoq+jNaYpZchBcUH",
      "include_colab_link": true
    },
    "kernelspec": {
      "name": "python3",
      "display_name": "Python 3"
    },
    "language_info": {
      "name": "python"
    }
  },
  "cells": [
    {
      "cell_type": "markdown",
      "metadata": {
        "id": "view-in-github",
        "colab_type": "text"
      },
      "source": [
        "<a href=\"https://colab.research.google.com/github/lohitkumar2612/Machine_Translation/blob/main/Hinglish_to_English.ipynb\" target=\"_parent\"><img src=\"https://colab.research.google.com/assets/colab-badge.svg\" alt=\"Open In Colab\"/></a>"
      ]
    },
    {
      "cell_type": "code",
      "metadata": {
        "id": "W22rtO1sc4OV"
      },
      "source": [
        "# Importing required libraries\n",
        "import re\n",
        "import numpy as np\n",
        "import pandas as pd\n",
        "import html\n"
      ],
      "execution_count": 49,
      "outputs": []
    },
    {
      "cell_type": "code",
      "metadata": {
        "id": "2Vl5HRQped-M"
      },
      "source": [
        "#creating data_frame\n",
        "df_corpus=pd.read_csv(\"/content/English-Hindi code-mixed parallel corpus.csv\")"
      ],
      "execution_count": 50,
      "outputs": []
    },
    {
      "cell_type": "code",
      "metadata": {
        "colab": {
          "base_uri": "https://localhost:8080/",
          "height": 206
        },
        "id": "GOD-YoXZfDeO",
        "outputId": "742af461-1f7a-4dfd-88a3-e3db0effad5b"
      },
      "source": [
        "#first_five rows in the dataset\n",
        "df_corpus.head()"
      ],
      "execution_count": 51,
      "outputs": [
        {
          "output_type": "execute_result",
          "data": {
            "text/html": [
              "<div>\n",
              "<style scoped>\n",
              "    .dataframe tbody tr th:only-of-type {\n",
              "        vertical-align: middle;\n",
              "    }\n",
              "\n",
              "    .dataframe tbody tr th {\n",
              "        vertical-align: top;\n",
              "    }\n",
              "\n",
              "    .dataframe thead th {\n",
              "        text-align: right;\n",
              "    }\n",
              "</style>\n",
              "<table border=\"1\" class=\"dataframe\">\n",
              "  <thead>\n",
              "    <tr style=\"text-align: right;\">\n",
              "      <th></th>\n",
              "      <th>Sentence</th>\n",
              "      <th>English_Translation</th>\n",
              "    </tr>\n",
              "  </thead>\n",
              "  <tbody>\n",
              "    <tr>\n",
              "      <th>0</th>\n",
              "      <td>@someUSER congratulations on you celebrating b...</td>\n",
              "      <td>@some users congratulate you for celebrating B...</td>\n",
              "    </tr>\n",
              "    <tr>\n",
              "      <th>1</th>\n",
              "      <td>@LoKarDi_RT uske liye toh bahot kuch karna pad...</td>\n",
              "      <td>@Lokardi_ rat we should a lot more for that, b...</td>\n",
              "    </tr>\n",
              "    <tr>\n",
              "      <th>2</th>\n",
              "      <td>@slimswamy yehi to hum semjhane ki koshish kar...</td>\n",
              "      <td>@Slimswami ehi, this is what i'm expecting you...</td>\n",
              "    </tr>\n",
              "    <tr>\n",
              "      <th>3</th>\n",
              "      <td>@DramebaazKudi cake kaha hai ??</td>\n",
              "      <td>@Where is Dramebajakudi where is the cake?</td>\n",
              "    </tr>\n",
              "    <tr>\n",
              "      <th>4</th>\n",
              "      <td>@someUSER i'm in hawaii at the moment .  home ...</td>\n",
              "      <td>@some user Don't want to come home next friday...</td>\n",
              "    </tr>\n",
              "  </tbody>\n",
              "</table>\n",
              "</div>"
            ],
            "text/plain": [
              "                                            Sentence                                English_Translation\n",
              "0  @someUSER congratulations on you celebrating b...  @some users congratulate you for celebrating B...\n",
              "1  @LoKarDi_RT uske liye toh bahot kuch karna pad...  @Lokardi_ rat we should a lot more for that, b...\n",
              "2  @slimswamy yehi to hum semjhane ki koshish kar...  @Slimswami ehi, this is what i'm expecting you...\n",
              "3                    @DramebaazKudi cake kaha hai ??         @Where is Dramebajakudi where is the cake?\n",
              "4  @someUSER i'm in hawaii at the moment .  home ...  @some user Don't want to come home next friday..."
            ]
          },
          "metadata": {},
          "execution_count": 51
        }
      ]
    },
    {
      "cell_type": "code",
      "metadata": {
        "id": "CKzrXE4Bfc3w"
      },
      "source": [
        "#For Data Cleaning \n",
        "hin_sen = df_corpus['Sentence']\n",
        "\n",
        "eng_tran = df_corpus['English_Translation']\n"
      ],
      "execution_count": 52,
      "outputs": []
    },
    {
      "cell_type": "code",
      "metadata": {
        "id": "eE1sPdjBgolr"
      },
      "source": [
        "#Removing Unwanted Data\n",
        "for i in range (len(hin_sen)):\n",
        "  hin_sen[i] = re.sub(r\"(@[A-Za-z0–9_]+)|[^\\w\\s]\", \"\", hin_sen[i])\n",
        "\n",
        "for i in range (len(eng_tran)):\n",
        "  eng_tran[i] = re.sub(r\"(@[A-Za-z0–9_]+)|[^\\w\\s]\", \"\", eng_tran[i])"
      ],
      "execution_count": 53,
      "outputs": []
    },
    {
      "cell_type": "code",
      "metadata": {
        "colab": {
          "base_uri": "https://localhost:8080/",
          "height": 423
        },
        "id": "ZjuDR3KHk_xt",
        "outputId": "371cebc2-8b12-4a98-86d5-eec5bccf1995"
      },
      "source": [
        "#After Data_Cleaning\n",
        "df_corpus['Sentence'] = hin_sen\n",
        "df_corpus['English_Translation'] = eng_tran\n",
        "df_corpus"
      ],
      "execution_count": 54,
      "outputs": [
        {
          "output_type": "execute_result",
          "data": {
            "text/html": [
              "<div>\n",
              "<style scoped>\n",
              "    .dataframe tbody tr th:only-of-type {\n",
              "        vertical-align: middle;\n",
              "    }\n",
              "\n",
              "    .dataframe tbody tr th {\n",
              "        vertical-align: top;\n",
              "    }\n",
              "\n",
              "    .dataframe thead th {\n",
              "        text-align: right;\n",
              "    }\n",
              "</style>\n",
              "<table border=\"1\" class=\"dataframe\">\n",
              "  <thead>\n",
              "    <tr style=\"text-align: right;\">\n",
              "      <th></th>\n",
              "      <th>Sentence</th>\n",
              "      <th>English_Translation</th>\n",
              "    </tr>\n",
              "  </thead>\n",
              "  <tbody>\n",
              "    <tr>\n",
              "      <th>0</th>\n",
              "      <td>congratulations on you celebrating british ki...</td>\n",
              "      <td>users congratulate you for celebrating Britis...</td>\n",
              "    </tr>\n",
              "    <tr>\n",
              "      <th>1</th>\n",
              "      <td>uske liye toh bahot kuch karna padega ye papp...</td>\n",
              "      <td>rat we should a lot more for that by this evi...</td>\n",
              "    </tr>\n",
              "    <tr>\n",
              "      <th>2</th>\n",
              "      <td>yehi to hum semjhane ki koshish kar rahe hain...</td>\n",
              "      <td>ehi this is what im expecting you to understa...</td>\n",
              "    </tr>\n",
              "    <tr>\n",
              "      <th>3</th>\n",
              "      <td>cake kaha hai</td>\n",
              "      <td>is Dramebajakudi where is the cake</td>\n",
              "    </tr>\n",
              "    <tr>\n",
              "      <th>4</th>\n",
              "      <td>im in hawaii at the moment   home next friday...</td>\n",
              "      <td>user Dont want to come home next friday becau...</td>\n",
              "    </tr>\n",
              "    <tr>\n",
              "      <th>...</th>\n",
              "      <td>...</td>\n",
              "      <td>...</td>\n",
              "    </tr>\n",
              "    <tr>\n",
              "      <th>13733</th>\n",
              "      <td>Dr Kumar Vishwas Koi deewana kehta hai koi pag...</td>\n",
              "      <td>Dr Kumar Vishwas Some used to say lover Some u...</td>\n",
              "    </tr>\n",
              "    <tr>\n",
              "      <th>13734</th>\n",
              "      <td>Me Aaj kuch toofani karte hai\\n\\nMom Pani ki b...</td>\n",
              "      <td>Me Lets do some stormy today\\n\\nMom Fill the w...</td>\n",
              "    </tr>\n",
              "    <tr>\n",
              "      <th>13735</th>\n",
              "      <td>Pyar mangi to Jaan dengimilk mango to kher den...</td>\n",
              "      <td>Ask for love well give life ask for milk well ...</td>\n",
              "    </tr>\n",
              "    <tr>\n",
              "      <th>13736</th>\n",
              "      <td>kaale kaale baal gaal gore gore</td>\n",
              "      <td>black hair cheeks fair fair</td>\n",
              "    </tr>\n",
              "    <tr>\n",
              "      <th>13737</th>\n",
              "      <td>Ye sab auntyon ke saath</td>\n",
              "      <td>All this with aunties</td>\n",
              "    </tr>\n",
              "  </tbody>\n",
              "</table>\n",
              "<p>13738 rows × 2 columns</p>\n",
              "</div>"
            ],
            "text/plain": [
              "                                                Sentence                                English_Translation\n",
              "0       congratulations on you celebrating british ki...   users congratulate you for celebrating Britis...\n",
              "1       uske liye toh bahot kuch karna padega ye papp...   rat we should a lot more for that by this evi...\n",
              "2       yehi to hum semjhane ki koshish kar rahe hain...   ehi this is what im expecting you to understa...\n",
              "3                                         cake kaha hai                  is Dramebajakudi where is the cake\n",
              "4       im in hawaii at the moment   home next friday...   user Dont want to come home next friday becau...\n",
              "...                                                  ...                                                ...\n",
              "13733  Dr Kumar Vishwas Koi deewana kehta hai koi pag...  Dr Kumar Vishwas Some used to say lover Some u...\n",
              "13734  Me Aaj kuch toofani karte hai\\n\\nMom Pani ki b...  Me Lets do some stormy today\\n\\nMom Fill the w...\n",
              "13735  Pyar mangi to Jaan dengimilk mango to kher den...  Ask for love well give life ask for milk well ...\n",
              "13736                    kaale kaale baal gaal gore gore                        black hair cheeks fair fair\n",
              "13737                            Ye sab auntyon ke saath                              All this with aunties\n",
              "\n",
              "[13738 rows x 2 columns]"
            ]
          },
          "metadata": {},
          "execution_count": 54
        }
      ]
    }
  ]
}